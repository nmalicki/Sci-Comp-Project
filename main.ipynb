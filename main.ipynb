{
 "cells": [
  {
   "cell_type": "code",
   "execution_count": 163,
   "metadata": {},
   "outputs": [],
   "source": [
    "using RDatasets, StatsBase, Statistics, DataFrames, LsqFit\n",
    "using Revise\n",
    "\n",
    "using CairoMakie\n",
    "CairoMakie.activate!()\n",
    "Makie.inline!(false)\n",
    "\n",
    "import JSON\n",
    "includet(\"FunctionData.jl\")\n",
    "data = JSON.parsefile(\"2023_results.json\"); #intake data from json\n",
    "\n",
    "full_race_points = [25, 18, 15, 12, 10, 8, 6, 4, 2, 1, 0, 0, 0, 0, 0, 0, 0, 0, 0, 0, 0] #points awarded for full length races\n",
    "sprint_race_points = [8, 7, 6, 5, 4, 3, 2, 1, 0, 0, 0, 0, 0, 0, 0, 0, 0, 0, 0, 0, 0]; #points awarded for sprint (short) races"
   ]
  },
  {
   "cell_type": "code",
   "execution_count": 144,
   "metadata": {},
   "outputs": [
    {
     "data": {
      "text/html": [
       "<div><div style = \"float: left;\"><span>22×29 DataFrame</span></div><div style = \"clear: both;\"></div></div><div class = \"data-frame\" style = \"overflow-x: scroll;\"><table class = \"data-frame\" style = \"margin-bottom: 6px;\"><thead><tr class = \"header\"><th class = \"rowNumber\" style = \"font-weight: bold; text-align: right;\">Row</th><th style = \"text-align: left;\">Driver_Number</th><th style = \"text-align: left;\">Sakhir:Race</th><th style = \"text-align: left;\">Jeddah:Race</th><th style = \"text-align: left;\">Melbourne:Race</th><th style = \"text-align: left;\">Baku:Sprint</th><th style = \"text-align: left;\">Baku:Race</th><th style = \"text-align: left;\">Miami:Race</th><th style = \"text-align: left;\">Monte Carlo:Race</th><th style = \"text-align: left;\">Catalunya:Race</th><th style = \"text-align: left;\">Montreal:Race</th><th style = \"text-align: left;\">Spielberg:Sprint</th><th style = \"text-align: left;\">Spielberg:Race</th><th style = \"text-align: left;\">Silverstone:Race</th><th style = \"text-align: left;\">Hungaroring:Race</th><th style = \"text-align: left;\">Spa-Francorchamps:Sprint</th><th style = \"text-align: left;\">Spa-Francorchamps:Race</th><th style = \"text-align: left;\">Zandvoort:Race</th><th style = \"text-align: left;\">Monza:Race</th><th style = \"text-align: left;\">Singapore:Race</th><th style = \"text-align: left;\">Suzuka:Race</th><th style = \"text-align: left;\">Lusail:Sprint</th><th style = \"text-align: left;\">Lusail:Race</th><th style = \"text-align: left;\">Austin:Sprint</th><th style = \"text-align: left;\">Austin:Race</th><th style = \"text-align: left;\">Mexico City:Race</th><th style = \"text-align: left;\">Interlagos:Sprint</th><th style = \"text-align: left;\">Interlagos:Race</th><th style = \"text-align: left;\">Las Vegas:Race</th><th style = \"text-align: left;\">Yas Marina Circuit:Race</th></tr><tr class = \"subheader headerLastRow\"><th class = \"rowNumber\" style = \"font-weight: bold; text-align: right;\"></th><th title = \"Any\" style = \"text-align: left;\">Any</th><th title = \"Any\" style = \"text-align: left;\">Any</th><th title = \"Any\" style = \"text-align: left;\">Any</th><th title = \"Any\" style = \"text-align: left;\">Any</th><th title = \"Any\" style = \"text-align: left;\">Any</th><th title = \"Any\" style = \"text-align: left;\">Any</th><th title = \"Any\" style = \"text-align: left;\">Any</th><th title = \"Any\" style = \"text-align: left;\">Any</th><th title = \"Any\" style = \"text-align: left;\">Any</th><th title = \"Any\" style = \"text-align: left;\">Any</th><th title = \"Any\" style = \"text-align: left;\">Any</th><th title = \"Any\" style = \"text-align: left;\">Any</th><th title = \"Any\" style = \"text-align: left;\">Any</th><th title = \"Any\" style = \"text-align: left;\">Any</th><th title = \"Any\" style = \"text-align: left;\">Any</th><th title = \"Any\" style = \"text-align: left;\">Any</th><th title = \"Any\" style = \"text-align: left;\">Any</th><th title = \"Any\" style = \"text-align: left;\">Any</th><th title = \"Any\" style = \"text-align: left;\">Any</th><th title = \"Any\" style = \"text-align: left;\">Any</th><th title = \"Any\" style = \"text-align: left;\">Any</th><th title = \"Any\" style = \"text-align: left;\">Any</th><th title = \"Any\" style = \"text-align: left;\">Any</th><th title = \"Any\" style = \"text-align: left;\">Any</th><th title = \"Any\" style = \"text-align: left;\">Any</th><th title = \"Any\" style = \"text-align: left;\">Any</th><th title = \"Any\" style = \"text-align: left;\">Any</th><th title = \"Any\" style = \"text-align: left;\">Any</th><th title = \"Any\" style = \"text-align: left;\">Any</th></tr></thead><tbody><tr><td class = \"rowNumber\" style = \"font-weight: bold; text-align: right;\">1</td><td style = \"text-align: left;\">1</td><td style = \"text-align: left;\">1</td><td style = \"text-align: left;\">2</td><td style = \"text-align: left;\">1</td><td style = \"text-align: left;\">3</td><td style = \"text-align: left;\">2</td><td style = \"text-align: left;\">1</td><td style = \"text-align: left;\">1</td><td style = \"text-align: left;\">1</td><td style = \"text-align: left;\">1</td><td style = \"text-align: left;\">1</td><td style = \"text-align: left;\">1</td><td style = \"text-align: left;\">1</td><td style = \"text-align: left;\">1</td><td style = \"text-align: left;\">1</td><td style = \"text-align: left;\">1</td><td style = \"text-align: left;\">1</td><td style = \"text-align: left;\">1</td><td style = \"text-align: left;\">5</td><td style = \"text-align: left;\">1</td><td style = \"text-align: left;\">2</td><td style = \"text-align: left;\">1</td><td style = \"text-align: left;\">1</td><td style = \"text-align: left;\">1</td><td style = \"text-align: left;\">1</td><td style = \"text-align: left;\">1</td><td style = \"text-align: left;\">1</td><td style = \"text-align: left;\">1</td><td style = \"text-align: left;\">1</td></tr><tr><td class = \"rowNumber\" style = \"font-weight: bold; text-align: right;\">2</td><td style = \"text-align: left;\">11</td><td style = \"text-align: left;\">2</td><td style = \"text-align: left;\">1</td><td style = \"text-align: left;\">5</td><td style = \"text-align: left;\">1</td><td style = \"text-align: left;\">1</td><td style = \"text-align: left;\">2</td><td style = \"text-align: left;\">16</td><td style = \"text-align: left;\">4</td><td style = \"text-align: left;\">6</td><td style = \"text-align: left;\">2</td><td style = \"text-align: left;\">3</td><td style = \"text-align: left;\">6</td><td style = \"text-align: left;\">3</td><td style = \"text-align: left;\">19</td><td style = \"text-align: left;\">2</td><td style = \"text-align: left;\">4</td><td style = \"text-align: left;\">2</td><td style = \"text-align: left;\">8</td><td style = \"text-align: left;\">19</td><td style = \"text-align: left;\">18</td><td style = \"text-align: left;\">10</td><td style = \"text-align: left;\">5</td><td style = \"text-align: left;\">5</td><td style = \"text-align: left;\">20</td><td style = \"text-align: left;\">3</td><td style = \"text-align: left;\">4</td><td style = \"text-align: left;\">3</td><td style = \"text-align: left;\">4</td></tr><tr><td class = \"rowNumber\" style = \"font-weight: bold; text-align: right;\">3</td><td style = \"text-align: left;\">14</td><td style = \"text-align: left;\">3</td><td style = \"text-align: left;\">3</td><td style = \"text-align: left;\">3</td><td style = \"text-align: left;\">6</td><td style = \"text-align: left;\">4</td><td style = \"text-align: left;\">3</td><td style = \"text-align: left;\">2</td><td style = \"text-align: left;\">7</td><td style = \"text-align: left;\">2</td><td style = \"text-align: left;\">5</td><td style = \"text-align: left;\">6</td><td style = \"text-align: left;\">7</td><td style = \"text-align: left;\">9</td><td style = \"text-align: left;\">20</td><td style = \"text-align: left;\">5</td><td style = \"text-align: left;\">2</td><td style = \"text-align: left;\">9</td><td style = \"text-align: left;\">15</td><td style = \"text-align: left;\">8</td><td style = \"text-align: left;\">9</td><td style = \"text-align: left;\">6</td><td style = \"text-align: left;\">13</td><td style = \"text-align: left;\">18</td><td style = \"text-align: left;\">18</td><td style = \"text-align: left;\">11</td><td style = \"text-align: left;\">3</td><td style = \"text-align: left;\">9</td><td style = \"text-align: left;\">7</td></tr><tr><td class = \"rowNumber\" style = \"font-weight: bold; text-align: right;\">4</td><td style = \"text-align: left;\">55</td><td style = \"text-align: left;\">4</td><td style = \"text-align: left;\">6</td><td style = \"text-align: left;\">12</td><td style = \"text-align: left;\">5</td><td style = \"text-align: left;\">5</td><td style = \"text-align: left;\">5</td><td style = \"text-align: left;\">8</td><td style = \"text-align: left;\">5</td><td style = \"text-align: left;\">5</td><td style = \"text-align: left;\">3</td><td style = \"text-align: left;\">4</td><td style = \"text-align: left;\">10</td><td style = \"text-align: left;\">8</td><td style = \"text-align: left;\">4</td><td style = \"text-align: left;\">19</td><td style = \"text-align: left;\">5</td><td style = \"text-align: left;\">3</td><td style = \"text-align: left;\">1</td><td style = \"text-align: left;\">6</td><td style = \"text-align: left;\">6</td><td style = \"text-align: left;\">20</td><td style = \"text-align: left;\">6</td><td style = \"text-align: left;\">4</td><td style = \"text-align: left;\">4</td><td style = \"text-align: left;\">8</td><td style = \"text-align: left;\">6</td><td style = \"text-align: left;\">6</td><td style = \"text-align: left;\">18</td></tr><tr><td class = \"rowNumber\" style = \"font-weight: bold; text-align: right;\">5</td><td style = \"text-align: left;\">44</td><td style = \"text-align: left;\">5</td><td style = \"text-align: left;\">5</td><td style = \"text-align: left;\">2</td><td style = \"text-align: left;\">7</td><td style = \"text-align: left;\">6</td><td style = \"text-align: left;\">6</td><td style = \"text-align: left;\">4</td><td style = \"text-align: left;\">2</td><td style = \"text-align: left;\">3</td><td style = \"text-align: left;\">10</td><td style = \"text-align: left;\">7</td><td style = \"text-align: left;\">3</td><td style = \"text-align: left;\">4</td><td style = \"text-align: left;\">7</td><td style = \"text-align: left;\">4</td><td style = \"text-align: left;\">6</td><td style = \"text-align: left;\">6</td><td style = \"text-align: left;\">3</td><td style = \"text-align: left;\">5</td><td style = \"text-align: left;\">5</td><td style = \"text-align: left;\">19</td><td style = \"text-align: left;\">2</td><td style = \"text-align: left;\">2</td><td style = \"text-align: left;\">2</td><td style = \"text-align: left;\">7</td><td style = \"text-align: left;\">8</td><td style = \"text-align: left;\">7</td><td style = \"text-align: left;\">9</td></tr><tr><td class = \"rowNumber\" style = \"font-weight: bold; text-align: right;\">6</td><td style = \"text-align: left;\">18</td><td style = \"text-align: left;\">6</td><td style = \"text-align: left;\">20</td><td style = \"text-align: left;\">4</td><td style = \"text-align: left;\">8</td><td style = \"text-align: left;\">7</td><td style = \"text-align: left;\">12</td><td style = \"text-align: left;\">20</td><td style = \"text-align: left;\">6</td><td style = \"text-align: left;\">9</td><td style = \"text-align: left;\">4</td><td style = \"text-align: left;\">10</td><td style = \"text-align: left;\">14</td><td style = \"text-align: left;\">10</td><td style = \"text-align: left;\">11</td><td style = \"text-align: left;\">9</td><td style = \"text-align: left;\">11</td><td style = \"text-align: left;\">16</td><td style = \"font-style: italic; text-align: left;\">missing</td><td style = \"text-align: left;\">18</td><td style = \"text-align: left;\">13</td><td style = \"text-align: left;\">11</td><td style = \"text-align: left;\">20</td><td style = \"text-align: left;\">9</td><td style = \"text-align: left;\">17</td><td style = \"text-align: left;\">12</td><td style = \"text-align: left;\">5</td><td style = \"text-align: left;\">5</td><td style = \"text-align: left;\">10</td></tr><tr><td class = \"rowNumber\" style = \"font-weight: bold; text-align: right;\">7</td><td style = \"text-align: left;\">63</td><td style = \"text-align: left;\">7</td><td style = \"text-align: left;\">4</td><td style = \"text-align: left;\">18</td><td style = \"text-align: left;\">4</td><td style = \"text-align: left;\">8</td><td style = \"text-align: left;\">4</td><td style = \"text-align: left;\">5</td><td style = \"text-align: left;\">3</td><td style = \"text-align: left;\">19</td><td style = \"text-align: left;\">8</td><td style = \"text-align: left;\">8</td><td style = \"text-align: left;\">5</td><td style = \"text-align: left;\">6</td><td style = \"text-align: left;\">8</td><td style = \"text-align: left;\">6</td><td style = \"text-align: left;\">17</td><td style = \"text-align: left;\">5</td><td style = \"text-align: left;\">16</td><td style = \"text-align: left;\">7</td><td style = \"text-align: left;\">4</td><td style = \"text-align: left;\">4</td><td style = \"text-align: left;\">8</td><td style = \"text-align: left;\">7</td><td style = \"text-align: left;\">6</td><td style = \"text-align: left;\">4</td><td style = \"text-align: left;\">15</td><td style = \"text-align: left;\">8</td><td style = \"text-align: left;\">3</td></tr><tr><td class = \"rowNumber\" style = \"font-weight: bold; text-align: right;\">8</td><td style = \"text-align: left;\">77</td><td style = \"text-align: left;\">8</td><td style = \"text-align: left;\">18</td><td style = \"text-align: left;\">11</td><td style = \"text-align: left;\">16</td><td style = \"text-align: left;\">18</td><td style = \"text-align: left;\">13</td><td style = \"text-align: left;\">11</td><td style = \"text-align: left;\">19</td><td style = \"text-align: left;\">10</td><td style = \"text-align: left;\">20</td><td style = \"text-align: left;\">16</td><td style = \"text-align: left;\">12</td><td style = \"text-align: left;\">12</td><td style = \"text-align: left;\">13</td><td style = \"text-align: left;\">12</td><td style = \"text-align: left;\">15</td><td style = \"text-align: left;\">10</td><td style = \"text-align: left;\">17</td><td style = \"text-align: left;\">20</td><td style = \"text-align: left;\">11</td><td style = \"text-align: left;\">8</td><td style = \"text-align: left;\">16</td><td style = \"text-align: left;\">14</td><td style = \"text-align: left;\">14</td><td style = \"text-align: left;\">19</td><td style = \"text-align: left;\">16</td><td style = \"text-align: left;\">17</td><td style = \"text-align: left;\">19</td></tr><tr><td class = \"rowNumber\" style = \"font-weight: bold; text-align: right;\">9</td><td style = \"text-align: left;\">10</td><td style = \"text-align: left;\">9</td><td style = \"text-align: left;\">9</td><td style = \"text-align: left;\">13</td><td style = \"text-align: left;\">13</td><td style = \"text-align: left;\">14</td><td style = \"text-align: left;\">8</td><td style = \"text-align: left;\">7</td><td style = \"text-align: left;\">10</td><td style = \"text-align: left;\">12</td><td style = \"text-align: left;\">15</td><td style = \"text-align: left;\">9</td><td style = \"text-align: left;\">18</td><td style = \"text-align: left;\">20</td><td style = \"text-align: left;\">3</td><td style = \"text-align: left;\">11</td><td style = \"text-align: left;\">3</td><td style = \"text-align: left;\">15</td><td style = \"text-align: left;\">6</td><td style = \"text-align: left;\">10</td><td style = \"text-align: left;\">10</td><td style = \"text-align: left;\">12</td><td style = \"text-align: left;\">7</td><td style = \"text-align: left;\">8</td><td style = \"text-align: left;\">11</td><td style = \"text-align: left;\">13</td><td style = \"text-align: left;\">7</td><td style = \"text-align: left;\">11</td><td style = \"text-align: left;\">13</td></tr><tr><td class = \"rowNumber\" style = \"font-weight: bold; text-align: right;\">10</td><td style = \"text-align: left;\">23</td><td style = \"text-align: left;\">10</td><td style = \"text-align: left;\">19</td><td style = \"text-align: left;\">19</td><td style = \"text-align: left;\">9</td><td style = \"text-align: left;\">12</td><td style = \"text-align: left;\">14</td><td style = \"text-align: left;\">14</td><td style = \"text-align: left;\">16</td><td style = \"text-align: left;\">7</td><td style = \"text-align: left;\">13</td><td style = \"text-align: left;\">11</td><td style = \"text-align: left;\">8</td><td style = \"text-align: left;\">11</td><td style = \"text-align: left;\">12</td><td style = \"text-align: left;\">14</td><td style = \"text-align: left;\">8</td><td style = \"text-align: left;\">7</td><td style = \"text-align: left;\">11</td><td style = \"text-align: left;\">16</td><td style = \"text-align: left;\">8</td><td style = \"text-align: left;\">13</td><td style = \"text-align: left;\">9</td><td style = \"text-align: left;\">11</td><td style = \"text-align: left;\">9</td><td style = \"text-align: left;\">15</td><td style = \"text-align: left;\">20</td><td style = \"text-align: left;\">12</td><td style = \"text-align: left;\">14</td></tr><tr><td class = \"rowNumber\" style = \"font-weight: bold; text-align: right;\">11</td><td style = \"text-align: left;\">22</td><td style = \"text-align: left;\">11</td><td style = \"text-align: left;\">11</td><td style = \"text-align: left;\">10</td><td style = \"text-align: left;\">19</td><td style = \"text-align: left;\">10</td><td style = \"text-align: left;\">11</td><td style = \"text-align: left;\">15</td><td style = \"text-align: left;\">12</td><td style = \"text-align: left;\">14</td><td style = \"text-align: left;\">16</td><td style = \"text-align: left;\">18</td><td style = \"text-align: left;\">16</td><td style = \"text-align: left;\">15</td><td style = \"text-align: left;\">18</td><td style = \"text-align: left;\">10</td><td style = \"text-align: left;\">16</td><td style = \"text-align: left;\">20</td><td style = \"text-align: left;\">19</td><td style = \"text-align: left;\">12</td><td style = \"text-align: left;\">12</td><td style = \"text-align: left;\">15</td><td style = \"text-align: left;\">14</td><td style = \"text-align: left;\">10</td><td style = \"text-align: left;\">12</td><td style = \"text-align: left;\">6</td><td style = \"text-align: left;\">9</td><td style = \"text-align: left;\">18</td><td style = \"text-align: left;\">8</td></tr><tr><td class = \"rowNumber\" style = \"font-weight: bold; text-align: right;\">12</td><td style = \"text-align: left;\">2</td><td style = \"text-align: left;\">12</td><td style = \"text-align: left;\">16</td><td style = \"text-align: left;\">16</td><td style = \"font-style: italic; text-align: left;\">missing</td><td style = \"text-align: left;\">16</td><td style = \"text-align: left;\">20</td><td style = \"text-align: left;\">18</td><td style = \"text-align: left;\">20</td><td style = \"text-align: left;\">20</td><td style = \"text-align: left;\">18</td><td style = \"text-align: left;\">13</td><td style = \"text-align: left;\">11</td><td style = \"text-align: left;\">18</td><td style = \"text-align: left;\">16</td><td style = \"text-align: left;\">17</td><td style = \"text-align: left;\">20</td><td style = \"text-align: left;\">13</td><td style = \"text-align: left;\">14</td><td style = \"text-align: left;\">17</td><td style = \"text-align: left;\">19</td><td style = \"text-align: left;\">18</td><td style = \"text-align: left;\">19</td><td style = \"text-align: left;\">12</td><td style = \"text-align: left;\">16</td><td style = \"text-align: left;\">20</td><td style = \"text-align: left;\">11</td><td style = \"text-align: left;\">16</td><td style = \"text-align: left;\">16</td></tr><tr><td class = \"rowNumber\" style = \"font-weight: bold; text-align: right;\">13</td><td style = \"text-align: left;\">20</td><td style = \"text-align: left;\">13</td><td style = \"text-align: left;\">10</td><td style = \"text-align: left;\">17</td><td style = \"text-align: left;\">11</td><td style = \"text-align: left;\">13</td><td style = \"text-align: left;\">10</td><td style = \"text-align: left;\">19</td><td style = \"text-align: left;\">18</td><td style = \"text-align: left;\">17</td><td style = \"text-align: left;\">14</td><td style = \"text-align: left;\">19</td><td style = \"text-align: left;\">19</td><td style = \"text-align: left;\">17</td><td style = \"text-align: left;\">14</td><td style = \"text-align: left;\">15</td><td style = \"text-align: left;\">14</td><td style = \"text-align: left;\">18</td><td style = \"text-align: left;\">10</td><td style = \"text-align: left;\">15</td><td style = \"text-align: left;\">14</td><td style = \"text-align: left;\">14</td><td style = \"text-align: left;\">18</td><td style = \"text-align: left;\">16</td><td style = \"text-align: left;\">19</td><td style = \"text-align: left;\">16</td><td style = \"text-align: left;\">19</td><td style = \"text-align: left;\">13</td><td style = \"text-align: left;\">20</td></tr><tr><td class = \"rowNumber\" style = \"font-weight: bold; text-align: right;\">14</td><td style = \"text-align: left;\">21</td><td style = \"text-align: left;\">14</td><td style = \"text-align: left;\">14</td><td style = \"text-align: left;\">15</td><td style = \"text-align: left;\">14</td><td style = \"text-align: left;\">20</td><td style = \"text-align: left;\">18</td><td style = \"text-align: left;\">12</td><td style = \"text-align: left;\">14</td><td style = \"text-align: left;\">18</td><td style = \"text-align: left;\">17</td><td style = \"text-align: left;\">15</td><td style = \"text-align: left;\">17</td><td style = \"font-style: italic; text-align: left;\">missing</td><td style = \"font-style: italic; text-align: left;\">missing</td><td style = \"font-style: italic; text-align: left;\">missing</td><td style = \"font-style: italic; text-align: left;\">missing</td><td style = \"font-style: italic; text-align: left;\">missing</td><td style = \"font-style: italic; text-align: left;\">missing</td><td style = \"font-style: italic; text-align: left;\">missing</td><td style = \"font-style: italic; text-align: left;\">missing</td><td style = \"font-style: italic; text-align: left;\">missing</td><td style = \"font-style: italic; text-align: left;\">missing</td><td style = \"font-style: italic; text-align: left;\">missing</td><td style = \"font-style: italic; text-align: left;\">missing</td><td style = \"font-style: italic; text-align: left;\">missing</td><td style = \"font-style: italic; text-align: left;\">missing</td><td style = \"font-style: italic; text-align: left;\">missing</td><td style = \"font-style: italic; text-align: left;\">missing</td></tr><tr><td class = \"rowNumber\" style = \"font-weight: bold; text-align: right;\">15</td><td style = \"text-align: left;\">27</td><td style = \"text-align: left;\">15</td><td style = \"text-align: left;\">12</td><td style = \"text-align: left;\">7</td><td style = \"text-align: left;\">15</td><td style = \"text-align: left;\">17</td><td style = \"text-align: left;\">15</td><td style = \"text-align: left;\">17</td><td style = \"text-align: left;\">15</td><td style = \"text-align: left;\">15</td><td style = \"text-align: left;\">6</td><td style = \"text-align: left;\">20</td><td style = \"text-align: left;\">13</td><td style = \"text-align: left;\">14</td><td style = \"text-align: left;\">17</td><td style = \"text-align: left;\">18</td><td style = \"text-align: left;\">12</td><td style = \"text-align: left;\">17</td><td style = \"text-align: left;\">13</td><td style = \"text-align: left;\">14</td><td style = \"text-align: left;\">16</td><td style = \"text-align: left;\">16</td><td style = \"text-align: left;\">15</td><td style = \"text-align: left;\">13</td><td style = \"text-align: left;\">13</td><td style = \"text-align: left;\">18</td><td style = \"text-align: left;\">12</td><td style = \"text-align: left;\">19</td><td style = \"text-align: left;\">15</td></tr><tr><td class = \"rowNumber\" style = \"font-weight: bold; text-align: right;\">16</td><td style = \"text-align: left;\">24</td><td style = \"text-align: left;\">16</td><td style = \"text-align: left;\">13</td><td style = \"text-align: left;\">9</td><td style = \"text-align: left;\">12</td><td style = \"text-align: left;\">19</td><td style = \"text-align: left;\">16</td><td style = \"text-align: left;\">13</td><td style = \"text-align: left;\">9</td><td style = \"text-align: left;\">16</td><td style = \"text-align: left;\">19</td><td style = \"text-align: left;\">14</td><td style = \"text-align: left;\">15</td><td style = \"text-align: left;\">16</td><td style = \"text-align: left;\">15</td><td style = \"text-align: left;\">13</td><td style = \"text-align: left;\">18</td><td style = \"text-align: left;\">14</td><td style = \"text-align: left;\">12</td><td style = \"text-align: left;\">13</td><td style = \"text-align: left;\">15</td><td style = \"text-align: left;\">9</td><td style = \"text-align: left;\">17</td><td style = \"text-align: left;\">15</td><td style = \"text-align: left;\">15</td><td style = \"text-align: left;\">17</td><td style = \"text-align: left;\">17</td><td style = \"text-align: left;\">15</td><td style = \"text-align: left;\">17</td></tr><tr><td class = \"rowNumber\" style = \"font-weight: bold; text-align: right;\">17</td><td style = \"text-align: left;\">4</td><td style = \"text-align: left;\">17</td><td style = \"text-align: left;\">17</td><td style = \"text-align: left;\">6</td><td style = \"text-align: left;\">17</td><td style = \"text-align: left;\">9</td><td style = \"text-align: left;\">17</td><td style = \"text-align: left;\">9</td><td style = \"text-align: left;\">17</td><td style = \"text-align: left;\">13</td><td style = \"text-align: left;\">9</td><td style = \"text-align: left;\">5</td><td style = \"text-align: left;\">2</td><td style = \"text-align: left;\">2</td><td style = \"text-align: left;\">6</td><td style = \"text-align: left;\">7</td><td style = \"text-align: left;\">7</td><td style = \"text-align: left;\">8</td><td style = \"text-align: left;\">2</td><td style = \"text-align: left;\">2</td><td style = \"text-align: left;\">3</td><td style = \"text-align: left;\">3</td><td style = \"text-align: left;\">4</td><td style = \"text-align: left;\">3</td><td style = \"text-align: left;\">5</td><td style = \"text-align: left;\">2</td><td style = \"text-align: left;\">2</td><td style = \"text-align: left;\">20</td><td style = \"text-align: left;\">5</td></tr><tr><td class = \"rowNumber\" style = \"font-weight: bold; text-align: right;\">18</td><td style = \"text-align: left;\">31</td><td style = \"text-align: left;\">18</td><td style = \"text-align: left;\">8</td><td style = \"text-align: left;\">14</td><td style = \"text-align: left;\">18</td><td style = \"text-align: left;\">15</td><td style = \"text-align: left;\">9</td><td style = \"text-align: left;\">3</td><td style = \"text-align: left;\">8</td><td style = \"text-align: left;\">8</td><td style = \"text-align: left;\">7</td><td style = \"text-align: left;\">12</td><td style = \"text-align: left;\">20</td><td style = \"text-align: left;\">19</td><td style = \"text-align: left;\">9</td><td style = \"text-align: left;\">8</td><td style = \"text-align: left;\">10</td><td style = \"text-align: left;\">19</td><td style = \"text-align: left;\">18</td><td style = \"text-align: left;\">9</td><td style = \"text-align: left;\">17</td><td style = \"text-align: left;\">7</td><td style = \"text-align: left;\">11</td><td style = \"text-align: left;\">20</td><td style = \"text-align: left;\">10</td><td style = \"text-align: left;\">14</td><td style = \"text-align: left;\">10</td><td style = \"text-align: left;\">4</td><td style = \"text-align: left;\">12</td></tr><tr><td class = \"rowNumber\" style = \"font-weight: bold; text-align: right;\">19</td><td style = \"text-align: left;\">16</td><td style = \"text-align: left;\">19</td><td style = \"text-align: left;\">7</td><td style = \"text-align: left;\">20</td><td style = \"text-align: left;\">2</td><td style = \"text-align: left;\">3</td><td style = \"text-align: left;\">7</td><td style = \"text-align: left;\">6</td><td style = \"text-align: left;\">11</td><td style = \"text-align: left;\">4</td><td style = \"text-align: left;\">12</td><td style = \"text-align: left;\">2</td><td style = \"text-align: left;\">9</td><td style = \"text-align: left;\">7</td><td style = \"text-align: left;\">5</td><td style = \"text-align: left;\">3</td><td style = \"text-align: left;\">19</td><td style = \"text-align: left;\">4</td><td style = \"text-align: left;\">4</td><td style = \"text-align: left;\">4</td><td style = \"text-align: left;\">7</td><td style = \"text-align: left;\">5</td><td style = \"text-align: left;\">3</td><td style = \"text-align: left;\">6</td><td style = \"text-align: left;\">3</td><td style = \"text-align: left;\">5</td><td style = \"text-align: left;\">18</td><td style = \"text-align: left;\">2</td><td style = \"text-align: left;\">2</td></tr><tr><td class = \"rowNumber\" style = \"font-weight: bold; text-align: right;\">20</td><td style = \"text-align: left;\">81</td><td style = \"text-align: left;\">20</td><td style = \"text-align: left;\">15</td><td style = \"text-align: left;\">8</td><td style = \"text-align: left;\">10</td><td style = \"text-align: left;\">11</td><td style = \"text-align: left;\">19</td><td style = \"text-align: left;\">10</td><td style = \"text-align: left;\">13</td><td style = \"text-align: left;\">11</td><td style = \"text-align: left;\">11</td><td style = \"text-align: left;\">17</td><td style = \"text-align: left;\">4</td><td style = \"text-align: left;\">5</td><td style = \"text-align: left;\">2</td><td style = \"text-align: left;\">20</td><td style = \"text-align: left;\">9</td><td style = \"text-align: left;\">12</td><td style = \"text-align: left;\">7</td><td style = \"text-align: left;\">3</td><td style = \"text-align: left;\">1</td><td style = \"text-align: left;\">2</td><td style = \"text-align: left;\">10</td><td style = \"text-align: left;\">19</td><td style = \"text-align: left;\">8</td><td style = \"text-align: left;\">10</td><td style = \"text-align: left;\">14</td><td style = \"text-align: left;\">10</td><td style = \"text-align: left;\">6</td></tr><tr><td class = \"rowNumber\" style = \"font-weight: bold; text-align: right;\">21</td><td style = \"text-align: left;\">3</td><td style = \"font-style: italic; text-align: left;\">missing</td><td style = \"font-style: italic; text-align: left;\">missing</td><td style = \"font-style: italic; text-align: left;\">missing</td><td style = \"font-style: italic; text-align: left;\">missing</td><td style = \"font-style: italic; text-align: left;\">missing</td><td style = \"font-style: italic; text-align: left;\">missing</td><td style = \"font-style: italic; text-align: left;\">missing</td><td style = \"font-style: italic; text-align: left;\">missing</td><td style = \"font-style: italic; text-align: left;\">missing</td><td style = \"font-style: italic; text-align: left;\">missing</td><td style = \"font-style: italic; text-align: left;\">missing</td><td style = \"font-style: italic; text-align: left;\">missing</td><td style = \"text-align: left;\">13</td><td style = \"text-align: left;\">10</td><td style = \"text-align: left;\">16</td><td style = \"font-style: italic; text-align: left;\">missing</td><td style = \"font-style: italic; text-align: left;\">missing</td><td style = \"font-style: italic; text-align: left;\">missing</td><td style = \"font-style: italic; text-align: left;\">missing</td><td style = \"font-style: italic; text-align: left;\">missing</td><td style = \"font-style: italic; text-align: left;\">missing</td><td style = \"text-align: left;\">12</td><td style = \"text-align: left;\">17</td><td style = \"text-align: left;\">7</td><td style = \"text-align: left;\">9</td><td style = \"text-align: left;\">13</td><td style = \"text-align: left;\">14</td><td style = \"text-align: left;\">11</td></tr><tr><td class = \"rowNumber\" style = \"font-weight: bold; text-align: right;\">22</td><td style = \"text-align: left;\">40</td><td style = \"font-style: italic; text-align: left;\">missing</td><td style = \"font-style: italic; text-align: left;\">missing</td><td style = \"font-style: italic; text-align: left;\">missing</td><td style = \"font-style: italic; text-align: left;\">missing</td><td style = \"font-style: italic; text-align: left;\">missing</td><td style = \"font-style: italic; text-align: left;\">missing</td><td style = \"font-style: italic; text-align: left;\">missing</td><td style = \"font-style: italic; text-align: left;\">missing</td><td style = \"font-style: italic; text-align: left;\">missing</td><td style = \"font-style: italic; text-align: left;\">missing</td><td style = \"font-style: italic; text-align: left;\">missing</td><td style = \"font-style: italic; text-align: left;\">missing</td><td style = \"font-style: italic; text-align: left;\">missing</td><td style = \"font-style: italic; text-align: left;\">missing</td><td style = \"font-style: italic; text-align: left;\">missing</td><td style = \"text-align: left;\">13</td><td style = \"text-align: left;\">11</td><td style = \"text-align: left;\">9</td><td style = \"text-align: left;\">11</td><td style = \"text-align: left;\">20</td><td style = \"text-align: left;\">17</td><td style = \"font-style: italic; text-align: left;\">missing</td><td style = \"font-style: italic; text-align: left;\">missing</td><td style = \"font-style: italic; text-align: left;\">missing</td><td style = \"font-style: italic; text-align: left;\">missing</td><td style = \"font-style: italic; text-align: left;\">missing</td><td style = \"font-style: italic; text-align: left;\">missing</td><td style = \"font-style: italic; text-align: left;\">missing</td></tr></tbody></table></div>"
      ],
      "text/latex": [
       "\\begin{tabular}{r|ccccccc}\n",
       "\t& Driver\\_Number & Sakhir:Race & Jeddah:Race & Melbourne:Race & Baku:Sprint & Baku:Race & \\\\\n",
       "\t\\hline\n",
       "\t& Any & Any & Any & Any & Any & Any & \\\\\n",
       "\t\\hline\n",
       "\t1 & 1 & 1 & 2 & 1 & 3 & 2 & $\\dots$ \\\\\n",
       "\t2 & 11 & 2 & 1 & 5 & 1 & 1 & $\\dots$ \\\\\n",
       "\t3 & 14 & 3 & 3 & 3 & 6 & 4 & $\\dots$ \\\\\n",
       "\t4 & 55 & 4 & 6 & 12 & 5 & 5 & $\\dots$ \\\\\n",
       "\t5 & 44 & 5 & 5 & 2 & 7 & 6 & $\\dots$ \\\\\n",
       "\t6 & 18 & 6 & 20 & 4 & 8 & 7 & $\\dots$ \\\\\n",
       "\t7 & 63 & 7 & 4 & 18 & 4 & 8 & $\\dots$ \\\\\n",
       "\t8 & 77 & 8 & 18 & 11 & 16 & 18 & $\\dots$ \\\\\n",
       "\t9 & 10 & 9 & 9 & 13 & 13 & 14 & $\\dots$ \\\\\n",
       "\t10 & 23 & 10 & 19 & 19 & 9 & 12 & $\\dots$ \\\\\n",
       "\t11 & 22 & 11 & 11 & 10 & 19 & 10 & $\\dots$ \\\\\n",
       "\t12 & 2 & 12 & 16 & 16 & \\emph{missing} & 16 & $\\dots$ \\\\\n",
       "\t13 & 20 & 13 & 10 & 17 & 11 & 13 & $\\dots$ \\\\\n",
       "\t14 & 21 & 14 & 14 & 15 & 14 & 20 & $\\dots$ \\\\\n",
       "\t15 & 27 & 15 & 12 & 7 & 15 & 17 & $\\dots$ \\\\\n",
       "\t16 & 24 & 16 & 13 & 9 & 12 & 19 & $\\dots$ \\\\\n",
       "\t17 & 4 & 17 & 17 & 6 & 17 & 9 & $\\dots$ \\\\\n",
       "\t18 & 31 & 18 & 8 & 14 & 18 & 15 & $\\dots$ \\\\\n",
       "\t19 & 16 & 19 & 7 & 20 & 2 & 3 & $\\dots$ \\\\\n",
       "\t20 & 81 & 20 & 15 & 8 & 10 & 11 & $\\dots$ \\\\\n",
       "\t21 & 3 & \\emph{missing} & \\emph{missing} & \\emph{missing} & \\emph{missing} & \\emph{missing} & $\\dots$ \\\\\n",
       "\t22 & 40 & \\emph{missing} & \\emph{missing} & \\emph{missing} & \\emph{missing} & \\emph{missing} & $\\dots$ \\\\\n",
       "\\end{tabular}\n"
      ],
      "text/plain": [
       "\u001b[1m22×29 DataFrame\u001b[0m\n",
       "\u001b[1m Row \u001b[0m│\u001b[1m Driver_Number \u001b[0m\u001b[1m Sakhir:Race \u001b[0m\u001b[1m Jeddah:Race \u001b[0m\u001b[1m Melbourne:Race \u001b[0m\u001b[1m Baku:Sprint \u001b[0m\u001b[1m B\u001b[0m ⋯\n",
       "     │\u001b[90m Any           \u001b[0m\u001b[90m Any         \u001b[0m\u001b[90m Any         \u001b[0m\u001b[90m Any            \u001b[0m\u001b[90m Any         \u001b[0m\u001b[90m A\u001b[0m ⋯\n",
       "─────┼──────────────────────────────────────────────────────────────────────────\n",
       "   1 │ 1              1            2            1               3            2 ⋯\n",
       "   2 │ 11             2            1            5               1            1\n",
       "   3 │ 14             3            3            3               6            4\n",
       "   4 │ 55             4            6            12              5            5\n",
       "   5 │ 44             5            5            2               7            6 ⋯\n",
       "   6 │ 18             6            20           4               8            7\n",
       "   7 │ 63             7            4            18              4            8\n",
       "   8 │ 77             8            18           11              16           1\n",
       "  ⋮  │       ⋮             ⋮            ⋮             ⋮              ⋮         ⋱\n",
       "  16 │ 24             16           13           9               12           1 ⋯\n",
       "  17 │ 4              17           17           6               17           9\n",
       "  18 │ 31             18           8            14              18           1\n",
       "  19 │ 16             19           7            20              2            3\n",
       "  20 │ 81             20           15           8               10           1 ⋯\n",
       "  21 │ 3             \u001b[90m missing     \u001b[0m\u001b[90m missing     \u001b[0m\u001b[90m missing        \u001b[0m\u001b[90m missing     \u001b[0m\u001b[90m m\u001b[0m\n",
       "  22 │ 40            \u001b[90m missing     \u001b[0m\u001b[90m missing     \u001b[0m\u001b[90m missing        \u001b[0m\u001b[90m missing     \u001b[0m\u001b[90m m\u001b[0m\n",
       "\u001b[36m                                                   24 columns and 7 rows omitted\u001b[0m"
      ]
     },
     "metadata": {},
     "output_type": "display_data"
    }
   ],
   "source": [
    "#collect all driver numbers used throughout the season\n",
    "all_driver_nums = FunctionData.get_season_driver_nums(data)\n",
    "\n",
    "race_df = DataFrame(Driver_Number=all_driver_nums)\n",
    "for i in 1:length(data)\n",
    "    race_name = data[i][1]\n",
    "    race_data = data[i][2]\n",
    "    positions = []\n",
    "    ids = []\n",
    "    missing_drivers = []\n",
    "    for j in 1:length(race_data)\n",
    "        #figure out which drivers did not participate in this race\n",
    "        if data[i][2][20] != nothing\n",
    "            numbers = map(d->d[\"driver_number\"],data[i][2])\n",
    "        else\n",
    "            numbers = map(d->d[\"driver_number\"],data[i][2][1:end-1])\n",
    "        end\n",
    "        missing_drivers = FunctionData.list_diff_multi(numbers, all_driver_nums)\n",
    "        if race_data[j] != nothing\n",
    "            push!(positions, race_data[j][\"position\"])\n",
    "            push!(ids, race_data[j][\"driver_number\"])\n",
    "            #race_df.Driver_Number\n",
    "        end \n",
    "    end\n",
    "    for k in 1:length(missing_drivers)\n",
    "        push!(positions, missing)\n",
    "        push!(ids, missing_drivers[k])\n",
    "    end\n",
    "    sub_df = DataFrame(Driver_Number=ids, Race_Name=positions)\n",
    "    rename!(sub_df, [\"Driver_Number\", data[i][1]])\n",
    "    race_df = innerjoin(race_df, sub_df, on=\"Driver_Number\")\n",
    "    #race_df[!, data[i][1]] = sub_df[!, 2]\n",
    "end\n",
    "\n",
    "sort!(race_df, \"Sakhir:Race\")"
   ]
  },
  {
   "cell_type": "code",
   "execution_count": 145,
   "metadata": {},
   "outputs": [],
   "source": [
    "#filling in the missing data, anyone who did not contest a race is put in 21st place, only 20 cars enter the race.\n",
    "cleaned_race_df = copy(race_df)\n",
    "for i in 2:ncol(cleaned_race_df)\n",
    "    race = cleaned_race_df[!, i]\n",
    "    for j in 1:length(race)\n",
    "        if (typeof(race[j]) == Missing)\n",
    "            race[j] = 21\n",
    "        end\n",
    "    end\n",
    "end\n",
    "cleaned_race_df;"
   ]
  },
  {
   "cell_type": "code",
   "execution_count": 146,
   "metadata": {},
   "outputs": [],
   "source": [
    "points_df = copy(cleaned_race_df)\n",
    "for i in 2:ncol(points_df)\n",
    "    col = points_df[!, i]\n",
    "    if split(names(cleaned_race_df)[i], \":\")[2] == \"Race\"\n",
    "        col = map(x->full_race_points[x], col)\n",
    "    else\n",
    "        col = map(x->sprint_race_points[x], col)\n",
    "    end\n",
    "    points_df[!, i] = col\n",
    "end"
   ]
  },
  {
   "cell_type": "code",
   "execution_count": 147,
   "metadata": {},
   "outputs": [],
   "source": [
    "#creates a table of cumulative points\n",
    "cul_points_df = points_df\n",
    "for i in 3:ncol(cul_points_df)\n",
    "    col = cul_points_df[!, i]\n",
    "    col_prev = cul_points_df[!, i - 1]\n",
    "    col = col.+col_prev\n",
    "    points_df[!, i] = col\n",
    "end"
   ]
  },
  {
   "cell_type": "code",
   "execution_count": 148,
   "metadata": {},
   "outputs": [],
   "source": [
    "sort(cul_points_df, :\"Yas Marina Circuit:Race\", rev=true);\n",
    "sort!(race_df, :\"Yas Marina Circuit:Race\");"
   ]
  },
  {
   "cell_type": "code",
   "execution_count": 149,
   "metadata": {},
   "outputs": [],
   "source": [
    "fig = Figure()\n",
    "ax = Axis(fig[1,1], aspect = 1, limits = (0, 30, 1, 600), title=\"Culmulative Points Scored\", xlabel=\"Race Number\", ylabel=\"Points Total\")\n",
    "ver = Array(cul_points_df[1, :][2:end])\n",
    "per = Array(cul_points_df[2, :][2:end])\n",
    "lines!(1:length(ver), ver, label=\"Verstappen\")\n",
    "lines!(1:length(ver), per, label=\"Perez\")\n",
    "Legend(fig[1,2], ax)\n",
    "fig;"
   ]
  },
  {
   "cell_type": "code",
   "execution_count": 150,
   "metadata": {},
   "outputs": [],
   "source": [
    "fig = Figure()\n",
    "ax = Axis(fig[1,1], aspect = 1, limits = (1, 600, 1, 300))\n",
    "ver = Array(cul_points_df[1, :][2:end])\n",
    "per = Array(cul_points_df[2, :][2:end])\n",
    "lines!(ver, per)\n",
    "fig;"
   ]
  },
  {
   "cell_type": "code",
   "execution_count": 210,
   "metadata": {},
   "outputs": [],
   "source": [
    "FunctionData.createDualGraph(race_df, 20, \"Kevin Magnussen\")"
   ]
  },
  {
   "cell_type": "code",
   "execution_count": 164,
   "metadata": {},
   "outputs": [],
   "source": [
    "FunctionData.createDualGraph(race_df, 1, \"Max Verstappen\")"
   ]
  },
  {
   "cell_type": "code",
   "execution_count": 165,
   "metadata": {},
   "outputs": [],
   "source": [
    "FunctionData.createDualGraph(race_df, 22, \"Liam Lawson\")"
   ]
  },
  {
   "cell_type": "code",
   "execution_count": 166,
   "metadata": {},
   "outputs": [],
   "source": [
    "FunctionData.createDualGraph(race_df, 21, \"Nyck de Vries\")"
   ]
  },
  {
   "cell_type": "code",
   "execution_count": 167,
   "metadata": {},
   "outputs": [],
   "source": [
    "FunctionData.createDualGraph(race_df, 11, \"Daniel Riccardo\")"
   ]
  },
  {
   "cell_type": "code",
   "execution_count": 168,
   "metadata": {},
   "outputs": [],
   "source": [
    "FunctionData.createDualGraph(race_df, 8, \"Yuki Tsunoda\")"
   ]
  }
 ],
 "metadata": {
  "kernelspec": {
   "display_name": "Julia 1.10.5",
   "language": "julia",
   "name": "julia-1.10"
  },
  "language_info": {
   "file_extension": ".jl",
   "mimetype": "application/julia",
   "name": "julia",
   "version": "1.10.5"
  }
 },
 "nbformat": 4,
 "nbformat_minor": 2
}
